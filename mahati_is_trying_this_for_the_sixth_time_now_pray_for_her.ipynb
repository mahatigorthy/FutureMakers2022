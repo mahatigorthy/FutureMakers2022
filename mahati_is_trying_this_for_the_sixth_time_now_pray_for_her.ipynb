{
  "nbformat": 4,
  "nbformat_minor": 0,
  "metadata": {
    "colab": {
      "name": "mahati is trying this for the sixth time now pray for her.ipynb",
      "provenance": [],
      "collapsed_sections": [],
      "authorship_tag": "ABX9TyNwlYpfKU267qepsHjqiGSW",
      "include_colab_link": true
    },
    "kernelspec": {
      "name": "python3",
      "display_name": "Python 3"
    },
    "language_info": {
      "name": "python"
    },
    "gpuClass": "standard"
  },
  "cells": [
    {
      "cell_type": "markdown",
      "metadata": {
        "id": "view-in-github",
        "colab_type": "text"
      },
      "source": [
        "<a href=\"https://colab.research.google.com/github/mahatigorthy/FutureMakers2022/blob/main/mahati_is_trying_this_for_the_sixth_time_now_pray_for_her.ipynb\" target=\"_parent\"><img src=\"https://colab.research.google.com/assets/colab-badge.svg\" alt=\"Open In Colab\"/></a>"
      ]
    },
    {
      "cell_type": "code",
      "execution_count": 38,
      "metadata": {
        "id": "Q8SH0WcBdwPU"
      },
      "outputs": [],
      "source": [
        "##import libraries\n",
        "\n",
        "import matplotlib.pyplot as plt\n",
        "\n",
        "from nltk.stem import WordNetLemmatizer\n",
        "import warnings\n",
        "warnings.filterwarnings('ignore')\n",
        "import requests\n",
        "import time\n",
        "import numpy as np\n",
        "import pandas as pd"
      ]
    },
    {
      "cell_type": "code",
      "source": [
        "nRowsRead = 84502\n",
        "df1 = pd.read_csv('/content/ExtractedTweets.csv', delimiter=',', nrows = nRowsRead)\n",
        "df1.dataframeName = 'tweets.csv'\n",
        "nRow, nCol = df1.shape\n",
        "print(f'There are {nRow} rows and {nCol} columns')"
      ],
      "metadata": {
        "id": "r4Y9aD4sfWmo",
        "colab": {
          "base_uri": "https://localhost:8080/"
        },
        "outputId": "7be67054-2794-49ff-a76b-a55c65f93a4d"
      },
      "execution_count": 39,
      "outputs": [
        {
          "output_type": "stream",
          "name": "stdout",
          "text": [
            "There are 84502 rows and 3 columns\n"
          ]
        }
      ]
    },
    {
      "cell_type": "code",
      "source": [
        "df1.head(84502)"
      ],
      "metadata": {
        "id": "RUGoMuAbfvjP",
        "colab": {
          "base_uri": "https://localhost:8080/",
          "height": 424
        },
        "outputId": "b6eefd00-85d2-4ced-e7bc-3cddb24f951d"
      },
      "execution_count": 40,
      "outputs": [
        {
          "output_type": "execute_result",
          "data": {
            "text/plain": [
              "            Party         Handle  \\\n",
              "0        Democrat  RepDarrenSoto   \n",
              "1        Democrat  RepDarrenSoto   \n",
              "2        Democrat  RepDarrenSoto   \n",
              "3        Democrat  RepDarrenSoto   \n",
              "4        Democrat  RepDarrenSoto   \n",
              "...           ...            ...   \n",
              "84497  Republican   davereichert   \n",
              "84498  Republican   davereichert   \n",
              "84499  Republican   davereichert   \n",
              "84500  Republican   davereichert   \n",
              "84501  Republican   davereichert   \n",
              "\n",
              "                                                   Tweet  \n",
              "0      Today, Senate Dems vote to #SaveTheInternet. P...  \n",
              "1      RT @WinterHavenSun: Winter Haven resident / Al...  \n",
              "2      RT @NBCLatino: .@RepDarrenSoto noted that Hurr...  \n",
              "3      RT @NALCABPolicy: Meeting with @RepDarrenSoto ...  \n",
              "4      RT @Vegalteno: Hurricane season starts on June...  \n",
              "...                                                  ...  \n",
              "84497  Great meeting with @PSEClassified to discuss s...  \n",
              "84498  Congratulations James Paxton on throwing a no-...  \n",
              "84499  RT @WAWheat23: @davereichert - Thank you for y...  \n",
              "84500  See my statement on the Iran nuclear deal here...  \n",
              "84501  It was good to see the @WAWheatGrowers this af...  \n",
              "\n",
              "[84502 rows x 3 columns]"
            ],
            "text/html": [
              "\n",
              "  <div id=\"df-127de4fe-d5d4-45a8-b7ef-1c97ad10bf1f\">\n",
              "    <div class=\"colab-df-container\">\n",
              "      <div>\n",
              "<style scoped>\n",
              "    .dataframe tbody tr th:only-of-type {\n",
              "        vertical-align: middle;\n",
              "    }\n",
              "\n",
              "    .dataframe tbody tr th {\n",
              "        vertical-align: top;\n",
              "    }\n",
              "\n",
              "    .dataframe thead th {\n",
              "        text-align: right;\n",
              "    }\n",
              "</style>\n",
              "<table border=\"1\" class=\"dataframe\">\n",
              "  <thead>\n",
              "    <tr style=\"text-align: right;\">\n",
              "      <th></th>\n",
              "      <th>Party</th>\n",
              "      <th>Handle</th>\n",
              "      <th>Tweet</th>\n",
              "    </tr>\n",
              "  </thead>\n",
              "  <tbody>\n",
              "    <tr>\n",
              "      <th>0</th>\n",
              "      <td>Democrat</td>\n",
              "      <td>RepDarrenSoto</td>\n",
              "      <td>Today, Senate Dems vote to #SaveTheInternet. P...</td>\n",
              "    </tr>\n",
              "    <tr>\n",
              "      <th>1</th>\n",
              "      <td>Democrat</td>\n",
              "      <td>RepDarrenSoto</td>\n",
              "      <td>RT @WinterHavenSun: Winter Haven resident / Al...</td>\n",
              "    </tr>\n",
              "    <tr>\n",
              "      <th>2</th>\n",
              "      <td>Democrat</td>\n",
              "      <td>RepDarrenSoto</td>\n",
              "      <td>RT @NBCLatino: .@RepDarrenSoto noted that Hurr...</td>\n",
              "    </tr>\n",
              "    <tr>\n",
              "      <th>3</th>\n",
              "      <td>Democrat</td>\n",
              "      <td>RepDarrenSoto</td>\n",
              "      <td>RT @NALCABPolicy: Meeting with @RepDarrenSoto ...</td>\n",
              "    </tr>\n",
              "    <tr>\n",
              "      <th>4</th>\n",
              "      <td>Democrat</td>\n",
              "      <td>RepDarrenSoto</td>\n",
              "      <td>RT @Vegalteno: Hurricane season starts on June...</td>\n",
              "    </tr>\n",
              "    <tr>\n",
              "      <th>...</th>\n",
              "      <td>...</td>\n",
              "      <td>...</td>\n",
              "      <td>...</td>\n",
              "    </tr>\n",
              "    <tr>\n",
              "      <th>84497</th>\n",
              "      <td>Republican</td>\n",
              "      <td>davereichert</td>\n",
              "      <td>Great meeting with @PSEClassified to discuss s...</td>\n",
              "    </tr>\n",
              "    <tr>\n",
              "      <th>84498</th>\n",
              "      <td>Republican</td>\n",
              "      <td>davereichert</td>\n",
              "      <td>Congratulations James Paxton on throwing a no-...</td>\n",
              "    </tr>\n",
              "    <tr>\n",
              "      <th>84499</th>\n",
              "      <td>Republican</td>\n",
              "      <td>davereichert</td>\n",
              "      <td>RT @WAWheat23: @davereichert - Thank you for y...</td>\n",
              "    </tr>\n",
              "    <tr>\n",
              "      <th>84500</th>\n",
              "      <td>Republican</td>\n",
              "      <td>davereichert</td>\n",
              "      <td>See my statement on the Iran nuclear deal here...</td>\n",
              "    </tr>\n",
              "    <tr>\n",
              "      <th>84501</th>\n",
              "      <td>Republican</td>\n",
              "      <td>davereichert</td>\n",
              "      <td>It was good to see the @WAWheatGrowers this af...</td>\n",
              "    </tr>\n",
              "  </tbody>\n",
              "</table>\n",
              "<p>84502 rows × 3 columns</p>\n",
              "</div>\n",
              "      <button class=\"colab-df-convert\" onclick=\"convertToInteractive('df-127de4fe-d5d4-45a8-b7ef-1c97ad10bf1f')\"\n",
              "              title=\"Convert this dataframe to an interactive table.\"\n",
              "              style=\"display:none;\">\n",
              "        \n",
              "  <svg xmlns=\"http://www.w3.org/2000/svg\" height=\"24px\"viewBox=\"0 0 24 24\"\n",
              "       width=\"24px\">\n",
              "    <path d=\"M0 0h24v24H0V0z\" fill=\"none\"/>\n",
              "    <path d=\"M18.56 5.44l.94 2.06.94-2.06 2.06-.94-2.06-.94-.94-2.06-.94 2.06-2.06.94zm-11 1L8.5 8.5l.94-2.06 2.06-.94-2.06-.94L8.5 2.5l-.94 2.06-2.06.94zm10 10l.94 2.06.94-2.06 2.06-.94-2.06-.94-.94-2.06-.94 2.06-2.06.94z\"/><path d=\"M17.41 7.96l-1.37-1.37c-.4-.4-.92-.59-1.43-.59-.52 0-1.04.2-1.43.59L10.3 9.45l-7.72 7.72c-.78.78-.78 2.05 0 2.83L4 21.41c.39.39.9.59 1.41.59.51 0 1.02-.2 1.41-.59l7.78-7.78 2.81-2.81c.8-.78.8-2.07 0-2.86zM5.41 20L4 18.59l7.72-7.72 1.47 1.35L5.41 20z\"/>\n",
              "  </svg>\n",
              "      </button>\n",
              "      \n",
              "  <style>\n",
              "    .colab-df-container {\n",
              "      display:flex;\n",
              "      flex-wrap:wrap;\n",
              "      gap: 12px;\n",
              "    }\n",
              "\n",
              "    .colab-df-convert {\n",
              "      background-color: #E8F0FE;\n",
              "      border: none;\n",
              "      border-radius: 50%;\n",
              "      cursor: pointer;\n",
              "      display: none;\n",
              "      fill: #1967D2;\n",
              "      height: 32px;\n",
              "      padding: 0 0 0 0;\n",
              "      width: 32px;\n",
              "    }\n",
              "\n",
              "    .colab-df-convert:hover {\n",
              "      background-color: #E2EBFA;\n",
              "      box-shadow: 0px 1px 2px rgba(60, 64, 67, 0.3), 0px 1px 3px 1px rgba(60, 64, 67, 0.15);\n",
              "      fill: #174EA6;\n",
              "    }\n",
              "\n",
              "    [theme=dark] .colab-df-convert {\n",
              "      background-color: #3B4455;\n",
              "      fill: #D2E3FC;\n",
              "    }\n",
              "\n",
              "    [theme=dark] .colab-df-convert:hover {\n",
              "      background-color: #434B5C;\n",
              "      box-shadow: 0px 1px 3px 1px rgba(0, 0, 0, 0.15);\n",
              "      filter: drop-shadow(0px 1px 2px rgba(0, 0, 0, 0.3));\n",
              "      fill: #FFFFFF;\n",
              "    }\n",
              "  </style>\n",
              "\n",
              "      <script>\n",
              "        const buttonEl =\n",
              "          document.querySelector('#df-127de4fe-d5d4-45a8-b7ef-1c97ad10bf1f button.colab-df-convert');\n",
              "        buttonEl.style.display =\n",
              "          google.colab.kernel.accessAllowed ? 'block' : 'none';\n",
              "\n",
              "        async function convertToInteractive(key) {\n",
              "          const element = document.querySelector('#df-127de4fe-d5d4-45a8-b7ef-1c97ad10bf1f');\n",
              "          const dataTable =\n",
              "            await google.colab.kernel.invokeFunction('convertToInteractive',\n",
              "                                                     [key], {});\n",
              "          if (!dataTable) return;\n",
              "\n",
              "          const docLinkHtml = 'Like what you see? Visit the ' +\n",
              "            '<a target=\"_blank\" href=https://colab.research.google.com/notebooks/data_table.ipynb>data table notebook</a>'\n",
              "            + ' to learn more about interactive tables.';\n",
              "          element.innerHTML = '';\n",
              "          dataTable['output_type'] = 'display_data';\n",
              "          await google.colab.output.renderOutput(dataTable, element);\n",
              "          const docLink = document.createElement('div');\n",
              "          docLink.innerHTML = docLinkHtml;\n",
              "          element.appendChild(docLink);\n",
              "        }\n",
              "      </script>\n",
              "    </div>\n",
              "  </div>\n",
              "  "
            ]
          },
          "metadata": {},
          "execution_count": 40
        }
      ]
    },
    {
      "cell_type": "code",
      "source": [
        "#transforming the target into 1 for Democrats and 0 for Conservative\n",
        "df1['Party'] = df1['Party'].map(lambda x : 1 if x == 'Democrat' else 0)"
      ],
      "metadata": {
        "id": "uog5lZr0gn4Y"
      },
      "execution_count": 41,
      "outputs": []
    },
    {
      "cell_type": "code",
      "source": [
        "df1.head(84502)"
      ],
      "metadata": {
        "id": "rxmojyjUiBAd",
        "colab": {
          "base_uri": "https://localhost:8080/",
          "height": 424
        },
        "outputId": "6360b20b-d5d5-4a44-c331-d1037262b55d"
      },
      "execution_count": 42,
      "outputs": [
        {
          "output_type": "execute_result",
          "data": {
            "text/plain": [
              "       Party         Handle                                              Tweet\n",
              "0          1  RepDarrenSoto  Today, Senate Dems vote to #SaveTheInternet. P...\n",
              "1          1  RepDarrenSoto  RT @WinterHavenSun: Winter Haven resident / Al...\n",
              "2          1  RepDarrenSoto  RT @NBCLatino: .@RepDarrenSoto noted that Hurr...\n",
              "3          1  RepDarrenSoto  RT @NALCABPolicy: Meeting with @RepDarrenSoto ...\n",
              "4          1  RepDarrenSoto  RT @Vegalteno: Hurricane season starts on June...\n",
              "...      ...            ...                                                ...\n",
              "84497      0   davereichert  Great meeting with @PSEClassified to discuss s...\n",
              "84498      0   davereichert  Congratulations James Paxton on throwing a no-...\n",
              "84499      0   davereichert  RT @WAWheat23: @davereichert - Thank you for y...\n",
              "84500      0   davereichert  See my statement on the Iran nuclear deal here...\n",
              "84501      0   davereichert  It was good to see the @WAWheatGrowers this af...\n",
              "\n",
              "[84502 rows x 3 columns]"
            ],
            "text/html": [
              "\n",
              "  <div id=\"df-92cc07cc-4653-4853-ab0c-d824d2e9c5e0\">\n",
              "    <div class=\"colab-df-container\">\n",
              "      <div>\n",
              "<style scoped>\n",
              "    .dataframe tbody tr th:only-of-type {\n",
              "        vertical-align: middle;\n",
              "    }\n",
              "\n",
              "    .dataframe tbody tr th {\n",
              "        vertical-align: top;\n",
              "    }\n",
              "\n",
              "    .dataframe thead th {\n",
              "        text-align: right;\n",
              "    }\n",
              "</style>\n",
              "<table border=\"1\" class=\"dataframe\">\n",
              "  <thead>\n",
              "    <tr style=\"text-align: right;\">\n",
              "      <th></th>\n",
              "      <th>Party</th>\n",
              "      <th>Handle</th>\n",
              "      <th>Tweet</th>\n",
              "    </tr>\n",
              "  </thead>\n",
              "  <tbody>\n",
              "    <tr>\n",
              "      <th>0</th>\n",
              "      <td>1</td>\n",
              "      <td>RepDarrenSoto</td>\n",
              "      <td>Today, Senate Dems vote to #SaveTheInternet. P...</td>\n",
              "    </tr>\n",
              "    <tr>\n",
              "      <th>1</th>\n",
              "      <td>1</td>\n",
              "      <td>RepDarrenSoto</td>\n",
              "      <td>RT @WinterHavenSun: Winter Haven resident / Al...</td>\n",
              "    </tr>\n",
              "    <tr>\n",
              "      <th>2</th>\n",
              "      <td>1</td>\n",
              "      <td>RepDarrenSoto</td>\n",
              "      <td>RT @NBCLatino: .@RepDarrenSoto noted that Hurr...</td>\n",
              "    </tr>\n",
              "    <tr>\n",
              "      <th>3</th>\n",
              "      <td>1</td>\n",
              "      <td>RepDarrenSoto</td>\n",
              "      <td>RT @NALCABPolicy: Meeting with @RepDarrenSoto ...</td>\n",
              "    </tr>\n",
              "    <tr>\n",
              "      <th>4</th>\n",
              "      <td>1</td>\n",
              "      <td>RepDarrenSoto</td>\n",
              "      <td>RT @Vegalteno: Hurricane season starts on June...</td>\n",
              "    </tr>\n",
              "    <tr>\n",
              "      <th>...</th>\n",
              "      <td>...</td>\n",
              "      <td>...</td>\n",
              "      <td>...</td>\n",
              "    </tr>\n",
              "    <tr>\n",
              "      <th>84497</th>\n",
              "      <td>0</td>\n",
              "      <td>davereichert</td>\n",
              "      <td>Great meeting with @PSEClassified to discuss s...</td>\n",
              "    </tr>\n",
              "    <tr>\n",
              "      <th>84498</th>\n",
              "      <td>0</td>\n",
              "      <td>davereichert</td>\n",
              "      <td>Congratulations James Paxton on throwing a no-...</td>\n",
              "    </tr>\n",
              "    <tr>\n",
              "      <th>84499</th>\n",
              "      <td>0</td>\n",
              "      <td>davereichert</td>\n",
              "      <td>RT @WAWheat23: @davereichert - Thank you for y...</td>\n",
              "    </tr>\n",
              "    <tr>\n",
              "      <th>84500</th>\n",
              "      <td>0</td>\n",
              "      <td>davereichert</td>\n",
              "      <td>See my statement on the Iran nuclear deal here...</td>\n",
              "    </tr>\n",
              "    <tr>\n",
              "      <th>84501</th>\n",
              "      <td>0</td>\n",
              "      <td>davereichert</td>\n",
              "      <td>It was good to see the @WAWheatGrowers this af...</td>\n",
              "    </tr>\n",
              "  </tbody>\n",
              "</table>\n",
              "<p>84502 rows × 3 columns</p>\n",
              "</div>\n",
              "      <button class=\"colab-df-convert\" onclick=\"convertToInteractive('df-92cc07cc-4653-4853-ab0c-d824d2e9c5e0')\"\n",
              "              title=\"Convert this dataframe to an interactive table.\"\n",
              "              style=\"display:none;\">\n",
              "        \n",
              "  <svg xmlns=\"http://www.w3.org/2000/svg\" height=\"24px\"viewBox=\"0 0 24 24\"\n",
              "       width=\"24px\">\n",
              "    <path d=\"M0 0h24v24H0V0z\" fill=\"none\"/>\n",
              "    <path d=\"M18.56 5.44l.94 2.06.94-2.06 2.06-.94-2.06-.94-.94-2.06-.94 2.06-2.06.94zm-11 1L8.5 8.5l.94-2.06 2.06-.94-2.06-.94L8.5 2.5l-.94 2.06-2.06.94zm10 10l.94 2.06.94-2.06 2.06-.94-2.06-.94-.94-2.06-.94 2.06-2.06.94z\"/><path d=\"M17.41 7.96l-1.37-1.37c-.4-.4-.92-.59-1.43-.59-.52 0-1.04.2-1.43.59L10.3 9.45l-7.72 7.72c-.78.78-.78 2.05 0 2.83L4 21.41c.39.39.9.59 1.41.59.51 0 1.02-.2 1.41-.59l7.78-7.78 2.81-2.81c.8-.78.8-2.07 0-2.86zM5.41 20L4 18.59l7.72-7.72 1.47 1.35L5.41 20z\"/>\n",
              "  </svg>\n",
              "      </button>\n",
              "      \n",
              "  <style>\n",
              "    .colab-df-container {\n",
              "      display:flex;\n",
              "      flex-wrap:wrap;\n",
              "      gap: 12px;\n",
              "    }\n",
              "\n",
              "    .colab-df-convert {\n",
              "      background-color: #E8F0FE;\n",
              "      border: none;\n",
              "      border-radius: 50%;\n",
              "      cursor: pointer;\n",
              "      display: none;\n",
              "      fill: #1967D2;\n",
              "      height: 32px;\n",
              "      padding: 0 0 0 0;\n",
              "      width: 32px;\n",
              "    }\n",
              "\n",
              "    .colab-df-convert:hover {\n",
              "      background-color: #E2EBFA;\n",
              "      box-shadow: 0px 1px 2px rgba(60, 64, 67, 0.3), 0px 1px 3px 1px rgba(60, 64, 67, 0.15);\n",
              "      fill: #174EA6;\n",
              "    }\n",
              "\n",
              "    [theme=dark] .colab-df-convert {\n",
              "      background-color: #3B4455;\n",
              "      fill: #D2E3FC;\n",
              "    }\n",
              "\n",
              "    [theme=dark] .colab-df-convert:hover {\n",
              "      background-color: #434B5C;\n",
              "      box-shadow: 0px 1px 3px 1px rgba(0, 0, 0, 0.15);\n",
              "      filter: drop-shadow(0px 1px 2px rgba(0, 0, 0, 0.3));\n",
              "      fill: #FFFFFF;\n",
              "    }\n",
              "  </style>\n",
              "\n",
              "      <script>\n",
              "        const buttonEl =\n",
              "          document.querySelector('#df-92cc07cc-4653-4853-ab0c-d824d2e9c5e0 button.colab-df-convert');\n",
              "        buttonEl.style.display =\n",
              "          google.colab.kernel.accessAllowed ? 'block' : 'none';\n",
              "\n",
              "        async function convertToInteractive(key) {\n",
              "          const element = document.querySelector('#df-92cc07cc-4653-4853-ab0c-d824d2e9c5e0');\n",
              "          const dataTable =\n",
              "            await google.colab.kernel.invokeFunction('convertToInteractive',\n",
              "                                                     [key], {});\n",
              "          if (!dataTable) return;\n",
              "\n",
              "          const docLinkHtml = 'Like what you see? Visit the ' +\n",
              "            '<a target=\"_blank\" href=https://colab.research.google.com/notebooks/data_table.ipynb>data table notebook</a>'\n",
              "            + ' to learn more about interactive tables.';\n",
              "          element.innerHTML = '';\n",
              "          dataTable['output_type'] = 'display_data';\n",
              "          await google.colab.output.renderOutput(dataTable, element);\n",
              "          const docLink = document.createElement('div');\n",
              "          docLink.innerHTML = docLinkHtml;\n",
              "          element.appendChild(docLink);\n",
              "        }\n",
              "      </script>\n",
              "    </div>\n",
              "  </div>\n",
              "  "
            ]
          },
          "metadata": {},
          "execution_count": 42
        }
      ]
    },
    {
      "cell_type": "code",
      "source": [
        "# import text based modules\n",
        "from sklearn.feature_extraction.text import CountVectorizer,TfidfVectorizer\n",
        "from sklearn.feature_extraction import _stop_words\n"
      ],
      "metadata": {
        "id": "s1GWlKQOiEig"
      },
      "execution_count": 43,
      "outputs": []
    },
    {
      "cell_type": "code",
      "source": [
        "additional_politics_english_stop = ['www', 'things', 'does', 'x200b', 'amp', 'want', 'watch',\n",
        "                           'just', 'like', 'https', 'com', 'republican', 'republicans',\n",
        "                           'libertarians', 'democrats', 'democrat', 'people', 'libertarian',\n",
        "                           'says', 'say', 'did', 'this', 'conservative', 'conservatives' ]\n",
        "\n",
        "additional_english_stop = ['www', 'things', 'does', 'x200b', 'amp',\n",
        "                           'just', 'like', 'https', 'com', 'watch', 'want',\n",
        "                           'says', 'say', 'did', 'this']\n",
        "\n",
        "new_stop_list = _stop_words.ENGLISH_STOP_WORDS.union(additional_english_stop)\n",
        "new_politics_english_stop_list = _stop_words.ENGLISH_STOP_WORDS.union(additional_politics_english_stop)\n",
        "print(len(_stop_words.ENGLISH_STOP_WORDS))\n",
        "print(len(additional_english_stop))\n",
        "print(len(new_politics_english_stop_list))\n",
        "print(len(new_stop_list))"
      ],
      "metadata": {
        "id": "Txi9Hvu2iRWH",
        "colab": {
          "base_uri": "https://localhost:8080/"
        },
        "outputId": "3e39997a-6823-4eaa-a6ec-866439865456"
      },
      "execution_count": 44,
      "outputs": [
        {
          "output_type": "stream",
          "name": "stdout",
          "text": [
            "318\n",
            "15\n",
            "341\n",
            "332\n"
          ]
        }
      ]
    },
    {
      "cell_type": "code",
      "source": [
        "# code originally written by boom\n",
        "# Function to count words in each df\n",
        "def word_counter(title_df,stop_list = []):\n",
        "    \n",
        "    # Count Vectorize\n",
        "    cvec = CountVectorizer(stop_words = stop_list, max_features=15)\n",
        "\n",
        "    # Transform the corpus\n",
        "    X_text = cvec.fit_transform(title_df['Tweet'])\n",
        "\n",
        "    # Converts text to array form\n",
        "    X_text = pd.DataFrame(X_text.toarray(), columns= cvec.get_feature_names())\n",
        "\n",
        "    # See word counts\n",
        "    word_counts = X_text.sum().sort_values(0, ascending=False)\n",
        "    \n",
        "    return word_counts"
      ],
      "metadata": {
        "id": "AVUCuFG5idcg"
      },
      "execution_count": 45,
      "outputs": []
    },
    {
      "cell_type": "code",
      "source": [
        "import pandas as pd\n",
        "from sklearn.metrics import confusion_matrix\n",
        "from xgboost import XGBClassifier\n",
        "from sklearn.feature_extraction.text import TfidfVectorizer, CountVectorizer\n",
        "from sklearn.pipeline import Pipeline\n",
        "from sklearn.model_selection import train_test_split,GridSearchCV\n",
        "from sklearn.neighbors import KNeighborsClassifier\n",
        "from sklearn.linear_model import LogisticRegression\n",
        "from sklearn.naive_bayes import MultinomialNB\n",
        "from sklearn.tree import DecisionTreeClassifier\n",
        "from sklearn.metrics import accuracy_score,recall_score,precision_score, confusion_matrix"
      ],
      "metadata": {
        "id": "xBdm70JFihXD"
      },
      "execution_count": 46,
      "outputs": []
    },
    {
      "cell_type": "code",
      "source": [
        "df1.isnull().sum()\n"
      ],
      "metadata": {
        "id": "IxGDVgQYjJDT",
        "colab": {
          "base_uri": "https://localhost:8080/"
        },
        "outputId": "7c76eb8c-7256-46ac-9c26-c5586be33416"
      },
      "execution_count": 47,
      "outputs": [
        {
          "output_type": "execute_result",
          "data": {
            "text/plain": [
              "Party     0\n",
              "Handle    0\n",
              "Tweet     0\n",
              "dtype: int64"
            ]
          },
          "metadata": {},
          "execution_count": 47
        }
      ]
    },
    {
      "cell_type": "code",
      "source": [
        "X = df1[['Tweet', 'Handle']]\n",
        "y = df1['Party']"
      ],
      "metadata": {
        "id": "gKxEhboIlys9"
      },
      "execution_count": 48,
      "outputs": []
    },
    {
      "cell_type": "code",
      "source": [
        "X_train, X_test, y_train, y_test = train_test_split(X, y, train_size = 0.75, test_size = 0.25)"
      ],
      "metadata": {
        "id": "6vIcFYUomWLX"
      },
      "execution_count": 49,
      "outputs": []
    },
    {
      "cell_type": "code",
      "source": [
        "y_test.value_counts(normalize=True)\n"
      ],
      "metadata": {
        "id": "jCJZfwGJmeHf",
        "colab": {
          "base_uri": "https://localhost:8080/"
        },
        "outputId": "05668f0b-2831-483e-bd55-90560e665a0f"
      },
      "execution_count": 50,
      "outputs": [
        {
          "output_type": "execute_result",
          "data": {
            "text/plain": [
              "1    0.502887\n",
              "0    0.497113\n",
              "Name: Party, dtype: float64"
            ]
          },
          "metadata": {},
          "execution_count": 50
        }
      ]
    },
    {
      "cell_type": "code",
      "source": [
        "from sklearn.ensemble import RandomForestClassifier\n",
        "from sklearn.svm import SVC\n",
        "from sklearn.ensemble import AdaBoostClassifier\n"
      ],
      "metadata": {
        "id": "PDPxzfPauqN_"
      },
      "execution_count": 51,
      "outputs": []
    },
    {
      "cell_type": "markdown",
      "source": [
        "i tried AdaBoost with TFIDF"
      ],
      "metadata": {
        "id": "5cOurjFoI96o"
      }
    },
    {
      "cell_type": "code",
      "source": [
        "ada_pipe = Pipeline([\n",
        "        ('tvec', TfidfVectorizer()),\n",
        "        ('ada', AdaBoostClassifier())\n",
        "])\n",
        "\n",
        "ada_params = {\n",
        "    'tvec__max_features': [None,500,1000],\n",
        "    'tvec__min_df': [2,3,4],\n",
        "    'tvec__max_df': [.5,.4,.3],\n",
        "    'tvec__ngram_range': [(1,1),(1,3)],\n",
        "    'tvec__stop_words': [None, 'english', new_stop_list],\n",
        "    'ada__learning_rate': [.5]}\n",
        "\n",
        "gs= GridSearchCV(ada_pipe, \n",
        "                   param_grid=ada_params, \n",
        "                   cv = 3,\n",
        "                   verbose = 1,\n",
        "                   n_jobs = -1)\n",
        "\n",
        "gs.fit(X_train['Tweet'],y_train)"
      ],
      "metadata": {
        "id": "vMwgs--ynVkr",
        "colab": {
          "base_uri": "https://localhost:8080/"
        },
        "outputId": "6c539372-b1f7-40c8-bb0c-80070273fb2d"
      },
      "execution_count": 37,
      "outputs": [
        {
          "metadata": {
            "tags": null
          },
          "name": "stdout",
          "output_type": "stream",
          "text": [
            "Fitting 3 folds for each of 162 candidates, totalling 486 fits\n"
          ]
        },
        {
          "output_type": "execute_result",
          "data": {
            "text/plain": [
              "GridSearchCV(cv=3,\n",
              "             estimator=Pipeline(steps=[('tvec', TfidfVectorizer()),\n",
              "                                       ('ada', AdaBoostClassifier())]),\n",
              "             n_jobs=-1,\n",
              "             param_grid={'ada__learning_rate': [0.5],\n",
              "                         'tvec__max_df': [0.5, 0.4, 0.3],\n",
              "                         'tvec__max_features': [None, 500, 1000],\n",
              "                         'tvec__min_df': [2, 3, 4],\n",
              "                         'tvec__ngram_range': [(1, 1), (1, 3)],\n",
              "                         'tvec__stop_words': [None, 'english',\n",
              "                                              frozenset({'a', 'about', 'above',\n",
              "                                                         'across', 'after',\n",
              "                                                         'afterwards', 'again',\n",
              "                                                         'against', 'all',\n",
              "                                                         'almost', 'alone',\n",
              "                                                         'along', 'already',\n",
              "                                                         'also', 'although',\n",
              "                                                         'always', 'am',\n",
              "                                                         'among', 'amongst',\n",
              "                                                         'amoungst', 'amount',\n",
              "                                                         'amp', 'an', 'and',\n",
              "                                                         'another', 'any',\n",
              "                                                         'anyhow', 'anyone',\n",
              "                                                         'anything', 'anyway', ...})]},\n",
              "             verbose=1)"
            ]
          },
          "metadata": {},
          "execution_count": 37
        }
      ]
    },
    {
      "cell_type": "code",
      "source": [
        "tfada_bestscore = gs.best_score_\n",
        "tfada_params = gs.best_params_\n",
        "tfada_train = gs.score(X_train[\"Tweet\"],y_train)\n",
        "tfada_test= gs.score(X_test[\"Tweet\"],y_test)\n",
        "tfada = ('TF-IDF with AdaBoost',tfada_bestscore, tfada_params, tfada_train, tfada_test)"
      ],
      "metadata": {
        "id": "0-fv0o5lzARx"
      },
      "execution_count": 53,
      "outputs": []
    },
    {
      "cell_type": "code",
      "source": [
        "print(f'Best Score: {gs.best_score_}')\n",
        "print(f'Best Parameters: {gs.best_params_}')\n",
        "print(f'Train Accuracy Score: {gs.score(X_train[\"Tweet\"],y_train)}')\n",
        "print(f'Test Accuracy Score: {gs.score(X_test[\"Tweet\"],y_test)}')"
      ],
      "metadata": {
        "id": "GHR1SyDKzG88",
        "colab": {
          "base_uri": "https://localhost:8080/"
        },
        "outputId": "0708b389-9798-4af6-f0e2-2dca18e28b5b"
      },
      "execution_count": 55,
      "outputs": [
        {
          "output_type": "stream",
          "name": "stdout",
          "text": [
            "Best Score: 0.6063020587847014\n",
            "Best Parameters: {'ada__learning_rate': 0.5, 'tvec__max_df': 0.3, 'tvec__max_features': 500, 'tvec__min_df': 4, 'tvec__ngram_range': (1, 1), 'tvec__stop_words': None}\n",
            "Train Accuracy Score: 0.6060969452158546\n",
            "Test Accuracy Score: 0.6068825144371864\n"
          ]
        }
      ]
    }
  ]
}